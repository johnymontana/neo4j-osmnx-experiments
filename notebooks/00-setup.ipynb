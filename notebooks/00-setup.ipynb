{
 "cells": [
  {
   "cell_type": "markdown",
   "id": "319c2edf",
   "metadata": {},
   "source": [
    "# `00-setup` Notebook\n",
    "\n",
    "Experiments with Neo4j and OSMnx.\n",
    "\n",
    "* `00-setup` - Basic proof of concept, loading a OSMnx graph into Neo4j via GeoDataFrame"
   ]
  },
  {
   "cell_type": "markdown",
   "id": "cbb102ff",
   "metadata": {},
   "source": [
    "## TODO: \n",
    "    - [ ] create basic OSMnx graph\n",
    "    - [ ] simplify network (intersections)\n",
    "    - [ ] enrich with speed / travel time\n",
    "    - [ ] enrich with elevation (Google elev API)\n",
    "    - [ ] convert to GeoDataFrame\n",
    "    - [ ] load GeoDataFrame into Neo4j"
   ]
  },
  {
   "cell_type": "code",
   "execution_count": null,
   "id": "cd911ca5",
   "metadata": {},
   "outputs": [],
   "source": []
  }
 ],
 "metadata": {
  "kernelspec": {
   "display_name": "Python 3 (ipykernel)",
   "language": "python",
   "name": "python3"
  },
  "language_info": {
   "codemirror_mode": {
    "name": "ipython",
    "version": 3
   },
   "file_extension": ".py",
   "mimetype": "text/x-python",
   "name": "python",
   "nbconvert_exporter": "python",
   "pygments_lexer": "ipython3",
   "version": "3.9.13"
  }
 },
 "nbformat": 4,
 "nbformat_minor": 5
}
