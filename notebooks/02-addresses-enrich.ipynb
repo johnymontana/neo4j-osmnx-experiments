{
 "cells": [
  {
   "cell_type": "markdown",
   "id": "00db573d",
   "metadata": {},
   "source": [
    "# `01-addresses-enrich` - Adding Addresses from OpenAddresses\n",
    "\n",
    "![](../img/data_model_addresses.png)"
   ]
  },
  {
   "cell_type": "markdown",
   "id": "e671cbfa",
   "metadata": {},
   "source": [
    "# TODOs\n",
    "\n",
    "- [x] update data model image\n",
    "- [ ] add address nodes using apoc.load.json\n",
    "- [ ] find nearest intersection to connect address node\n",
    "- [ ] demonstrate routing with apoc.algo.djikstra and apoc.algo.aStar"
   ]
  },
  {
   "cell_type": "code",
   "execution_count": 3,
   "id": "7e2d2d8f",
   "metadata": {},
   "outputs": [],
   "source": [
    "# format? maybe just document apoc.load.json cypher and then add ability to run them?"
   ]
  },
  {
   "cell_type": "code",
   "execution_count": 5,
   "id": "786f8356",
   "metadata": {},
   "outputs": [],
   "source": [
    "# to use apoc.load.json? or just cypher and pass rows?"
   ]
  },
  {
   "cell_type": "markdown",
   "id": "efa480b9",
   "metadata": {},
   "source": [
    "```Cypher\n",
    "\n",
    "CREATE CONSTRAINT FOR (a:Address) REQUIRE a.id IS UNIQUE\n",
    "```"
   ]
  },
  {
   "cell_type": "markdown",
   "id": "50c575df",
   "metadata": {},
   "source": [
    "Create `Address` nodes for each feature in geojson file:\n",
    "\n",
    "```Cypher\n",
    "CALL apoc.load.json(\"file:///sanmateo_addresses.geojson\") YIELD value\n",
    "MERGE (a:Address {id: value.properties.id})\n",
    "SET a.location = \n",
    "  point(\n",
    "      {latitude: value.geometry.coordinates[1], longitude: value.geometry.coordinates[0]}),\n",
    "    a.full_address = value.properties.number + \" \" + value.properties.street + \" \" + value.properties.city + \", CA \" + value.properties.postcode\n",
    "\n",
    "SET a += value.properties\n",
    "```\n",
    "\n",
    "Find nearest intersection for each `Address` node and connect with `NEAREST_INTERSECTION` relationship:\n",
    "\n",
    "```Cypher\n",
    "MATCH (p:Address) WHERE NOT EXISTS ((p)-[:NEAREST_INTERSECTION]->(:Intersection))\n",
    "WITH p LIMIT 100000\n",
    "CALL {\n",
    "  WITH p\n",
    "  MATCH (i:Intersection)\n",
    "  USING INDEX i:Intersection(location)\n",
    "  WHERE point.distance(i.location, p.location) < 2000\n",
    "  \n",
    "  WITH i\n",
    "  ORDER BY point.distance(p.location, i.location) ASC \n",
    "  LIMIT 1\n",
    "  RETURN i\n",
    "}\n",
    "WITH p, i\n",
    "\n",
    "MERGE (p)-[r:NEAREST_INTERSECTION]->(i)\n",
    "SET r.length = point.distance(p.location, i.location)\n",
    "RETURN COUNT(p)\n",
    "```"
   ]
  },
  {
   "cell_type": "code",
   "execution_count": null,
   "id": "85211ee9",
   "metadata": {},
   "outputs": [],
   "source": []
  }
 ],
 "metadata": {
  "kernelspec": {
   "display_name": "Python 3 (ipykernel)",
   "language": "python",
   "name": "python3"
  },
  "language_info": {
   "codemirror_mode": {
    "name": "ipython",
    "version": 3
   },
   "file_extension": ".py",
   "mimetype": "text/x-python",
   "name": "python",
   "nbconvert_exporter": "python",
   "pygments_lexer": "ipython3",
   "version": "3.9.13"
  }
 },
 "nbformat": 4,
 "nbformat_minor": 5
}
